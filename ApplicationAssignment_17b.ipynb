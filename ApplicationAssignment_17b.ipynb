{
 "cells": [
  {
   "cell_type": "code",
   "execution_count": 2,
   "id": "07d5ea9f",
   "metadata": {},
   "outputs": [],
   "source": [
    "#[goal]\n",
    "#the goal is to compare the performance of the classification including \n",
    "#a) k-nearest neighbors\n",
    "#b) logistic regression\n",
    "#c) decision trees\n",
    "#d) support vector machine\n",
    "\n",
    "#[Understand the business problem]\n",
    "#we are going to use the above 4 models to find the model that is best to predict whether a client \n",
    "#will subscribe a term deposit\n",
    "\n",
    "#[Analysis]\n",
    "# teh confusion matrix suggested that we should use logistic regression model \n",
    "# to predict the subscription of a term deposit\n",
    "#as value is 0.8827 which is the highest number, this also means the accuracy rate of\n",
    "#this model is 88.72%, this is based on the test dataset of 31646 rows. \n",
    "#As the accuracy rate of the predict model is high, we would expect this model to be ready\n",
    "# to be used in production environment"
   ]
  },
  {
   "cell_type": "code",
   "execution_count": 3,
   "id": "b624757e",
   "metadata": {},
   "outputs": [],
   "source": [
    "#[understanding the data]\n",
    "#the dataset i am using is coming from UCI Machine Learning Repository. The data is from a Portuguese banking\n",
    "#institution and is a collection of the results of multiple marketing campigns. \n",
    "#load the file from csv and assign to dataframe df\n",
    "import pandas as pd\n",
    "df = pd.read_csv ('data/bank-full.csv', sep=';')"
   ]
  },
  {
   "cell_type": "code",
   "execution_count": 4,
   "id": "e2506358",
   "metadata": {},
   "outputs": [
    {
     "data": {
      "text/html": [
       "<div>\n",
       "<style scoped>\n",
       "    .dataframe tbody tr th:only-of-type {\n",
       "        vertical-align: middle;\n",
       "    }\n",
       "\n",
       "    .dataframe tbody tr th {\n",
       "        vertical-align: top;\n",
       "    }\n",
       "\n",
       "    .dataframe thead th {\n",
       "        text-align: right;\n",
       "    }\n",
       "</style>\n",
       "<table border=\"1\" class=\"dataframe\">\n",
       "  <thead>\n",
       "    <tr style=\"text-align: right;\">\n",
       "      <th></th>\n",
       "      <th>age</th>\n",
       "      <th>job</th>\n",
       "      <th>marital</th>\n",
       "      <th>education</th>\n",
       "      <th>default</th>\n",
       "      <th>balance</th>\n",
       "      <th>housing</th>\n",
       "      <th>loan</th>\n",
       "      <th>contact</th>\n",
       "      <th>day</th>\n",
       "      <th>month</th>\n",
       "      <th>duration</th>\n",
       "      <th>campaign</th>\n",
       "      <th>pdays</th>\n",
       "      <th>previous</th>\n",
       "      <th>poutcome</th>\n",
       "      <th>y</th>\n",
       "    </tr>\n",
       "  </thead>\n",
       "  <tbody>\n",
       "    <tr>\n",
       "      <th>0</th>\n",
       "      <td>58</td>\n",
       "      <td>management</td>\n",
       "      <td>married</td>\n",
       "      <td>tertiary</td>\n",
       "      <td>no</td>\n",
       "      <td>2143</td>\n",
       "      <td>yes</td>\n",
       "      <td>no</td>\n",
       "      <td>unknown</td>\n",
       "      <td>5</td>\n",
       "      <td>may</td>\n",
       "      <td>261</td>\n",
       "      <td>1</td>\n",
       "      <td>-1</td>\n",
       "      <td>0</td>\n",
       "      <td>unknown</td>\n",
       "      <td>no</td>\n",
       "    </tr>\n",
       "    <tr>\n",
       "      <th>1</th>\n",
       "      <td>44</td>\n",
       "      <td>technician</td>\n",
       "      <td>single</td>\n",
       "      <td>secondary</td>\n",
       "      <td>no</td>\n",
       "      <td>29</td>\n",
       "      <td>yes</td>\n",
       "      <td>no</td>\n",
       "      <td>unknown</td>\n",
       "      <td>5</td>\n",
       "      <td>may</td>\n",
       "      <td>151</td>\n",
       "      <td>1</td>\n",
       "      <td>-1</td>\n",
       "      <td>0</td>\n",
       "      <td>unknown</td>\n",
       "      <td>no</td>\n",
       "    </tr>\n",
       "    <tr>\n",
       "      <th>2</th>\n",
       "      <td>33</td>\n",
       "      <td>entrepreneur</td>\n",
       "      <td>married</td>\n",
       "      <td>secondary</td>\n",
       "      <td>no</td>\n",
       "      <td>2</td>\n",
       "      <td>yes</td>\n",
       "      <td>yes</td>\n",
       "      <td>unknown</td>\n",
       "      <td>5</td>\n",
       "      <td>may</td>\n",
       "      <td>76</td>\n",
       "      <td>1</td>\n",
       "      <td>-1</td>\n",
       "      <td>0</td>\n",
       "      <td>unknown</td>\n",
       "      <td>no</td>\n",
       "    </tr>\n",
       "    <tr>\n",
       "      <th>3</th>\n",
       "      <td>47</td>\n",
       "      <td>blue-collar</td>\n",
       "      <td>married</td>\n",
       "      <td>unknown</td>\n",
       "      <td>no</td>\n",
       "      <td>1506</td>\n",
       "      <td>yes</td>\n",
       "      <td>no</td>\n",
       "      <td>unknown</td>\n",
       "      <td>5</td>\n",
       "      <td>may</td>\n",
       "      <td>92</td>\n",
       "      <td>1</td>\n",
       "      <td>-1</td>\n",
       "      <td>0</td>\n",
       "      <td>unknown</td>\n",
       "      <td>no</td>\n",
       "    </tr>\n",
       "    <tr>\n",
       "      <th>4</th>\n",
       "      <td>33</td>\n",
       "      <td>unknown</td>\n",
       "      <td>single</td>\n",
       "      <td>unknown</td>\n",
       "      <td>no</td>\n",
       "      <td>1</td>\n",
       "      <td>no</td>\n",
       "      <td>no</td>\n",
       "      <td>unknown</td>\n",
       "      <td>5</td>\n",
       "      <td>may</td>\n",
       "      <td>198</td>\n",
       "      <td>1</td>\n",
       "      <td>-1</td>\n",
       "      <td>0</td>\n",
       "      <td>unknown</td>\n",
       "      <td>no</td>\n",
       "    </tr>\n",
       "  </tbody>\n",
       "</table>\n",
       "</div>"
      ],
      "text/plain": [
       "   age           job  marital  education default  balance housing loan  \\\n",
       "0   58    management  married   tertiary      no     2143     yes   no   \n",
       "1   44    technician   single  secondary      no       29     yes   no   \n",
       "2   33  entrepreneur  married  secondary      no        2     yes  yes   \n",
       "3   47   blue-collar  married    unknown      no     1506     yes   no   \n",
       "4   33       unknown   single    unknown      no        1      no   no   \n",
       "\n",
       "   contact  day month  duration  campaign  pdays  previous poutcome   y  \n",
       "0  unknown    5   may       261         1     -1         0  unknown  no  \n",
       "1  unknown    5   may       151         1     -1         0  unknown  no  \n",
       "2  unknown    5   may        76         1     -1         0  unknown  no  \n",
       "3  unknown    5   may        92         1     -1         0  unknown  no  \n",
       "4  unknown    5   may       198         1     -1         0  unknown  no  "
      ]
     },
     "execution_count": 4,
     "metadata": {},
     "output_type": "execute_result"
    }
   ],
   "source": [
    "#[understanding the data]\n",
    "#show the dataframe df first 5 rows, it has 17 columns\n",
    "df.head(5)"
   ]
  },
  {
   "cell_type": "code",
   "execution_count": 5,
   "id": "778653ea",
   "metadata": {},
   "outputs": [
    {
     "data": {
      "text/plain": [
       "age           int64\n",
       "job          object\n",
       "marital      object\n",
       "education    object\n",
       "default      object\n",
       "balance       int64\n",
       "housing      object\n",
       "loan         object\n",
       "contact      object\n",
       "day           int64\n",
       "month        object\n",
       "duration      int64\n",
       "campaign      int64\n",
       "pdays         int64\n",
       "previous      int64\n",
       "poutcome     object\n",
       "y            object\n",
       "dtype: object"
      ]
     },
     "execution_count": 5,
     "metadata": {},
     "output_type": "execute_result"
    }
   ],
   "source": [
    "#[understanding the data]\n",
    "#learn the datatype per each column of the dataframe\n",
    "df.dtypes"
   ]
  },
  {
   "cell_type": "code",
   "execution_count": 6,
   "id": "bfe2eb36",
   "metadata": {},
   "outputs": [
    {
     "name": "stdout",
     "output_type": "stream",
     "text": [
      "<class 'pandas.core.frame.DataFrame'>\n",
      "RangeIndex: 45211 entries, 0 to 45210\n",
      "Data columns (total 17 columns):\n",
      " #   Column     Non-Null Count  Dtype \n",
      "---  ------     --------------  ----- \n",
      " 0   age        45211 non-null  int64 \n",
      " 1   job        45211 non-null  object\n",
      " 2   marital    45211 non-null  object\n",
      " 3   education  45211 non-null  object\n",
      " 4   default    45211 non-null  object\n",
      " 5   balance    45211 non-null  int64 \n",
      " 6   housing    45211 non-null  object\n",
      " 7   loan       45211 non-null  object\n",
      " 8   contact    45211 non-null  object\n",
      " 9   day        45211 non-null  int64 \n",
      " 10  month      45211 non-null  object\n",
      " 11  duration   45211 non-null  int64 \n",
      " 12  campaign   45211 non-null  int64 \n",
      " 13  pdays      45211 non-null  int64 \n",
      " 14  previous   45211 non-null  int64 \n",
      " 15  poutcome   45211 non-null  object\n",
      " 16  y          45211 non-null  object\n",
      "dtypes: int64(7), object(10)\n",
      "memory usage: 5.9+ MB\n"
     ]
    }
   ],
   "source": [
    "#[understanding the data]\n",
    "# check the datatype of the dataframe\n",
    "df.info()"
   ]
  },
  {
   "cell_type": "code",
   "execution_count": 7,
   "id": "cac4ba8a",
   "metadata": {},
   "outputs": [
    {
     "data": {
      "text/plain": [
       "<AxesSubplot:xlabel='duration', ylabel='balance'>"
      ]
     },
     "execution_count": 7,
     "metadata": {},
     "output_type": "execute_result"
    },
    {
     "data": {
      "image/png": "[encoded data removed]",
      "text/plain": [
       "<Figure size 640x480 with 1 Axes>"
      ]
     },
     "metadata": {},
     "output_type": "display_data"
    }
   ],
   "source": [
    "#[understanding the data]\n",
    "#show scatter plot of column duration and balance, we want to know the distribution\n",
    "import seaborn as sns\n",
    "sns.scatterplot(x=\"duration\",y=\"balance\",data=df)"
   ]
  },
  {
   "cell_type": "code",
   "execution_count": 8,
   "id": "7881f84a",
   "metadata": {},
   "outputs": [
    {
     "name": "stdout",
     "output_type": "stream",
     "text": [
      "balance min : -8019\n",
      "balance max : 102127\n",
      "duration min : 0\n",
      "duration max : 4918\n"
     ]
    }
   ],
   "source": [
    "#[understand the data]\n",
    "#get the max and min of balance and duration\n",
    "balance_min = df['balance'].min()\n",
    "balance_max = df['balance'].max()\n",
    "duration_min = df['duration'].min()\n",
    "duration_max = df['duration'].max()\n",
    "print('balance min :' ,balance_min)\n",
    "print('balance max :' ,balance_max)\n",
    "print('duration min :',duration_min)\n",
    "print('duration max :', duration_max)"
   ]
  },
  {
   "cell_type": "code",
   "execution_count": 9,
   "id": "91ded780",
   "metadata": {},
   "outputs": [
    {
     "name": "stdout",
     "output_type": "stream",
     "text": [
      "-------job--------\n",
      "type of job\n",
      "['management' 'technician' 'entrepreneur' 'blue-collar' 'unknown'\n",
      " 'retired' 'admin.' 'services' 'self-employed' 'unemployed' 'housemaid'\n",
      " 'student']\n",
      "blue-collar      9732\n",
      "management       9458\n",
      "technician       7597\n",
      "admin.           5171\n",
      "services         4154\n",
      "retired          2264\n",
      "self-employed    1579\n",
      "entrepreneur     1487\n",
      "unemployed       1303\n",
      "housemaid        1240\n",
      "student           938\n",
      "unknown           288\n",
      "Name: job, dtype: int64\n",
      "-------marital--------\n",
      "['married' 'single' 'divorced']\n",
      "-------education--------\n",
      "['tertiary' 'secondary' 'unknown' 'primary']\n",
      "secondary    23202\n",
      "tertiary     13301\n",
      "primary       6851\n",
      "unknown       1857\n",
      "Name: education, dtype: int64\n",
      "-------default--------\n",
      "has credit card\n",
      "['no' 'yes']\n",
      "no     44396\n",
      "yes      815\n",
      "Name: default, dtype: int64\n",
      "-------balance-------\n",
      "[ 2143    29     2 ...  8205 14204 16353]\n",
      " 0        3514\n",
      " 1         195\n",
      " 2         156\n",
      " 4         139\n",
      " 3         134\n",
      "          ... \n",
      "-381         1\n",
      " 4617        1\n",
      " 20584       1\n",
      " 4358        1\n",
      " 16353       1\n",
      "Name: balance, Length: 7168, dtype: int64\n",
      "-------housing-------\n",
      "has housing loan\n",
      "['yes' 'no']\n",
      "yes    25130\n",
      "no     20081\n",
      "Name: housing, dtype: int64\n",
      "-------loan-------\n",
      "['no' 'yes']\n",
      "no     37967\n",
      "yes     7244\n",
      "Name: loan, dtype: int64\n",
      "-------contact-------\n",
      "['unknown' 'cellular' 'telephone']\n",
      "cellular     29285\n",
      "unknown      13020\n",
      "telephone     2906\n",
      "Name: contact, dtype: int64\n",
      "-------campaign-------\n",
      "[ 1  2  3  5  4  6  7  8  9 10 11 12 13 19 14 24 16 32 18 22 15 17 25 21\n",
      " 43 51 63 41 26 28 55 50 38 23 20 29 31 37 30 46 27 58 33 35 34 36 39 44]\n",
      "1     17544\n",
      "2     12505\n",
      "3      5521\n",
      "4      3522\n",
      "5      1764\n",
      "6      1291\n",
      "7       735\n",
      "8       540\n",
      "9       327\n",
      "10      266\n",
      "11      201\n",
      "12      155\n",
      "13      133\n",
      "14       93\n",
      "15       84\n",
      "16       79\n",
      "17       69\n",
      "18       51\n",
      "19       44\n",
      "20       43\n",
      "21       35\n",
      "22       23\n",
      "25       22\n",
      "23       22\n",
      "24       20\n",
      "29       16\n",
      "28       16\n",
      "26       13\n",
      "31       12\n",
      "27       10\n",
      "32        9\n",
      "30        8\n",
      "33        6\n",
      "34        5\n",
      "36        4\n",
      "35        4\n",
      "43        3\n",
      "38        3\n",
      "37        2\n",
      "50        2\n",
      "41        2\n",
      "46        1\n",
      "58        1\n",
      "55        1\n",
      "63        1\n",
      "51        1\n",
      "39        1\n",
      "44        1\n",
      "Name: campaign, dtype: int64\n"
     ]
    }
   ],
   "source": [
    "#[understanding the data]\n",
    "#we want to know the unique data per column\n",
    "print('-------job--------')\n",
    "print('type of job')\n",
    "print(df['job'].unique())  \n",
    "print(df.job.value_counts())\n",
    "\n",
    "print('-------marital--------')\n",
    "print(df['marital'].unique())  \n",
    "#print(df.martial.value_counts())\n",
    "\n",
    "print('-------education--------')\n",
    "print(df['education'].unique())  \n",
    "print(df.education.value_counts())\n",
    "\n",
    "print('-------default--------')\n",
    "print('has credit card')\n",
    "print(df['default'].unique())  \n",
    "print(df.default.value_counts())\n",
    "\n",
    "print('-------balance-------')\n",
    "print(df['balance'].unique())  \n",
    "print(df.balance.value_counts())\n",
    "\n",
    "print('-------housing-------')\n",
    "print('has housing loan')\n",
    "print(df['housing'].unique())  \n",
    "print(df.housing.value_counts())\n",
    "\n",
    "print('-------loan-------')\n",
    "print(df['loan'].unique())  \n",
    "print(df.loan.value_counts())\n",
    "\n",
    "print('-------contact-------')\n",
    "print(df['contact'].unique())  \n",
    "print(df.contact.value_counts())\n",
    "\n",
    "print('-------campaign-------')\n",
    "#campaign: number of contacts performed during this campaign and for this client (numeric, includes last contact)\n",
    "print(df['campaign'].unique())  \n",
    "print(df.campaign.value_counts())"
   ]
  },
  {
   "cell_type": "code",
   "execution_count": 181,
   "id": "6b13c6f0",
   "metadata": {},
   "outputs": [
    {
     "name": "stdout",
     "output_type": "stream",
     "text": [
      "-------pdays-------\n",
      "[ -1 151 166  91  86 143 147  89 140 176 101 174 170 167 195 165 129 188\n",
      " 196 172 118 119 104 171 117 164 132 131 123 159 186 111 115 116 173 178\n",
      " 110 152  96 103 150 175 193 181 185 154 145 138 126 180 109 158 168  97\n",
      " 182 127 130 194 125 105 102  26 179  28 183 155 112 120 137 124 187 190\n",
      " 113 162 134 169 189   8 144 191 184 177   5  99 133  93  92  10 100 156\n",
      " 198 106 153 146 128   7 121 160 107  90  27 197 136 139 122 157 149 135\n",
      "  30 114  98 192 163  34  95 141  31 199  94 108  29 268 247 253 226 244\n",
      " 239 245 204 231 238 258 230 254 265  71 223 246 250 266 240 205 261 259\n",
      " 241 260 234 251 225 161 237 262 248 255 220 227 206 224 249 235 228 263\n",
      "   2 270 232 252 207 200 269 233 256 273 272 242 264 208 214 222 271 203\n",
      " 221 202 216 201 257 229 210 217  75 213  73  76 267 211 215  77 236  82\n",
      "   6 209 274   1 243 212 275  80 276   9 279  12 280  88 277  85  84 219\n",
      "  24  21 282  41 294  49 329 307 303 331 308 300  64 314 287 330 332 302\n",
      " 323 318 333  60 326 335 313 312 305 325 327 336 309 328 322  39 316 292\n",
      " 295 310 306 320 317 289  57 321 142 339 301 315 337 334 340 319  17  74\n",
      " 148 341 299 344 342 324 345 346 304 281 343 338  14 347  15 291 348 349\n",
      " 285 350 284  25 283 278  81   4  87  83  79  70  13 293  37  78  63  22\n",
      " 296 355  66  19  35 360 357 354 351 362 358 365 298 286 364 363  47 361\n",
      " 288 366 356 352 359 297 367 353 368  42 290  67 371 370 369  50  36 373\n",
      " 374 372 311 375 378  59 379  40  18  43  20  69  38 385  56  55  44 391\n",
      "  72 390  32  62 399 393  65 377 395 388 389 386  61 412 405 434 394 382\n",
      " 459 440 397 383  68 461 462 463 422  51 457 430 442 403 454 428 392 410\n",
      " 401 474 475 477 478  54 476 380 479  45  46 495  58  48 518  52 515 520\n",
      " 511 536 387 218  33 544 435 436 555 433 446 558 469 616 561 553 384 592\n",
      " 467 585 480 421 667 626 426 595 381 376 648 521 452 449 633 398  53 460\n",
      " 670 551 414 557 687 404 651 686 425 504 578 674 416 586 411 756 450 745\n",
      " 514 417 424 776 396 683 529 439 415 456 407 458 532 481 791 701 531 792\n",
      " 413 445 535 784 419 455 491 431 542 470 472 717 437   3 782 728 828 524\n",
      " 562 761 492 775 579 493 464 760 466 465 656 831 490 432 655 427 749 838\n",
      " 769 587 778 854 779 850 771 594 842 589 603 484 489 486 409 444 680 808\n",
      " 485 503 690 772 774 526 420 528 500 826 804 508 547 805 541 543 871 550\n",
      " 530]\n",
      "-------previous-------\n",
      "[  0   3   1   4   2  11  16   6   5  10  12   7  18   9  21   8  14  15\n",
      "  26  37  13  25  20  27  17  23  38  29  24  51 275  22  19  30  58  28\n",
      "  32  40  55  35  41]\n",
      "-------poutcome-------\n",
      "['unknown' 'failure' 'other' 'success']\n",
      "unknown    36959\n",
      "failure     4901\n",
      "other       1840\n",
      "success     1511\n",
      "Name: poutcome, dtype: int64\n",
      "-------y------\n",
      "['no' 'yes']\n",
      "no     39922\n",
      "yes     5289\n",
      "Name: y, dtype: int64\n"
     ]
    }
   ],
   "source": [
    "#[understand the data]\n",
    "#this continue to understand the unique data per each column\n",
    "print('-------pdays-------')\n",
    "# pdays: number of days that passed by after the client was last contacted from \n",
    "# a previous campaign (numeric; 999 means client was not previously contacted)\n",
    "print(df['pdays'].unique())  \n",
    "#print(df.pdays.value_counts())\n",
    "\n",
    "print('-------previous-------')\n",
    "# previous: number of contacts performed before this campaign and for this client (numeric)\n",
    "print(df['previous'].unique())  \n",
    "#print(df.previous.value_counts())\n",
    "\n",
    "print('-------poutcome-------')\n",
    "#poutcome: outcome of the previous marketing campaign (categorical: 'failure','nonexistent','success')\n",
    "print(df['poutcome'].unique())  \n",
    "print(df.poutcome.value_counts())\n",
    "\n",
    "print('-------y------')\n",
    "#has the client subscribed a term deposit? (binary: 'yes','no')\n",
    "print(df['y'].unique())  \n",
    "print(df.y.value_counts())"
   ]
  },
  {
   "cell_type": "code",
   "execution_count": 10,
   "id": "5077c75d",
   "metadata": {},
   "outputs": [
    {
     "data": {
      "text/html": [
       "<div>\n",
       "<style scoped>\n",
       "    .dataframe tbody tr th:only-of-type {\n",
       "        vertical-align: middle;\n",
       "    }\n",
       "\n",
       "    .dataframe tbody tr th {\n",
       "        vertical-align: top;\n",
       "    }\n",
       "\n",
       "    .dataframe thead th {\n",
       "        text-align: right;\n",
       "    }\n",
       "</style>\n",
       "<table border=\"1\" class=\"dataframe\">\n",
       "  <thead>\n",
       "    <tr style=\"text-align: right;\">\n",
       "      <th></th>\n",
       "      <th>age</th>\n",
       "      <th>job</th>\n",
       "      <th>marital</th>\n",
       "      <th>education</th>\n",
       "      <th>default</th>\n",
       "      <th>balance</th>\n",
       "      <th>housing</th>\n",
       "      <th>loan</th>\n",
       "      <th>contact</th>\n",
       "      <th>day</th>\n",
       "      <th>month</th>\n",
       "      <th>duration</th>\n",
       "      <th>campaign</th>\n",
       "      <th>pdays</th>\n",
       "      <th>previous</th>\n",
       "      <th>poutcome</th>\n",
       "      <th>y</th>\n",
       "      <th>subscribed</th>\n",
       "    </tr>\n",
       "  </thead>\n",
       "  <tbody>\n",
       "    <tr>\n",
       "      <th>0</th>\n",
       "      <td>58</td>\n",
       "      <td>management</td>\n",
       "      <td>married</td>\n",
       "      <td>tertiary</td>\n",
       "      <td>no</td>\n",
       "      <td>2143</td>\n",
       "      <td>yes</td>\n",
       "      <td>no</td>\n",
       "      <td>unknown</td>\n",
       "      <td>5</td>\n",
       "      <td>may</td>\n",
       "      <td>261</td>\n",
       "      <td>1</td>\n",
       "      <td>-1</td>\n",
       "      <td>0</td>\n",
       "      <td>unknown</td>\n",
       "      <td>no</td>\n",
       "      <td>no</td>\n",
       "    </tr>\n",
       "    <tr>\n",
       "      <th>1</th>\n",
       "      <td>44</td>\n",
       "      <td>technician</td>\n",
       "      <td>single</td>\n",
       "      <td>secondary</td>\n",
       "      <td>no</td>\n",
       "      <td>29</td>\n",
       "      <td>yes</td>\n",
       "      <td>no</td>\n",
       "      <td>unknown</td>\n",
       "      <td>5</td>\n",
       "      <td>may</td>\n",
       "      <td>151</td>\n",
       "      <td>1</td>\n",
       "      <td>-1</td>\n",
       "      <td>0</td>\n",
       "      <td>unknown</td>\n",
       "      <td>no</td>\n",
       "      <td>no</td>\n",
       "    </tr>\n",
       "    <tr>\n",
       "      <th>2</th>\n",
       "      <td>33</td>\n",
       "      <td>entrepreneur</td>\n",
       "      <td>married</td>\n",
       "      <td>secondary</td>\n",
       "      <td>no</td>\n",
       "      <td>2</td>\n",
       "      <td>yes</td>\n",
       "      <td>yes</td>\n",
       "      <td>unknown</td>\n",
       "      <td>5</td>\n",
       "      <td>may</td>\n",
       "      <td>76</td>\n",
       "      <td>1</td>\n",
       "      <td>-1</td>\n",
       "      <td>0</td>\n",
       "      <td>unknown</td>\n",
       "      <td>no</td>\n",
       "      <td>no</td>\n",
       "    </tr>\n",
       "    <tr>\n",
       "      <th>3</th>\n",
       "      <td>47</td>\n",
       "      <td>blue-collar</td>\n",
       "      <td>married</td>\n",
       "      <td>unknown</td>\n",
       "      <td>no</td>\n",
       "      <td>1506</td>\n",
       "      <td>yes</td>\n",
       "      <td>no</td>\n",
       "      <td>unknown</td>\n",
       "      <td>5</td>\n",
       "      <td>may</td>\n",
       "      <td>92</td>\n",
       "      <td>1</td>\n",
       "      <td>-1</td>\n",
       "      <td>0</td>\n",
       "      <td>unknown</td>\n",
       "      <td>no</td>\n",
       "      <td>no</td>\n",
       "    </tr>\n",
       "    <tr>\n",
       "      <th>4</th>\n",
       "      <td>33</td>\n",
       "      <td>unknown</td>\n",
       "      <td>single</td>\n",
       "      <td>unknown</td>\n",
       "      <td>no</td>\n",
       "      <td>1</td>\n",
       "      <td>no</td>\n",
       "      <td>no</td>\n",
       "      <td>unknown</td>\n",
       "      <td>5</td>\n",
       "      <td>may</td>\n",
       "      <td>198</td>\n",
       "      <td>1</td>\n",
       "      <td>-1</td>\n",
       "      <td>0</td>\n",
       "      <td>unknown</td>\n",
       "      <td>no</td>\n",
       "      <td>no</td>\n",
       "    </tr>\n",
       "  </tbody>\n",
       "</table>\n",
       "</div>"
      ],
      "text/plain": [
       "   age           job  marital  education default  balance housing loan  \\\n",
       "0   58    management  married   tertiary      no     2143     yes   no   \n",
       "1   44    technician   single  secondary      no       29     yes   no   \n",
       "2   33  entrepreneur  married  secondary      no        2     yes  yes   \n",
       "3   47   blue-collar  married    unknown      no     1506     yes   no   \n",
       "4   33       unknown   single    unknown      no        1      no   no   \n",
       "\n",
       "   contact  day month  duration  campaign  pdays  previous poutcome   y  \\\n",
       "0  unknown    5   may       261         1     -1         0  unknown  no   \n",
       "1  unknown    5   may       151         1     -1         0  unknown  no   \n",
       "2  unknown    5   may        76         1     -1         0  unknown  no   \n",
       "3  unknown    5   may        92         1     -1         0  unknown  no   \n",
       "4  unknown    5   may       198         1     -1         0  unknown  no   \n",
       "\n",
       "  subscribed  \n",
       "0         no  \n",
       "1         no  \n",
       "2         no  \n",
       "3         no  \n",
       "4         no  "
      ]
     },
     "execution_count": 10,
     "metadata": {},
     "output_type": "execute_result"
    }
   ],
   "source": [
    "#[preparing the data]\n",
    "#create a new mirror dataframe df2\n",
    "df2 = df\n",
    "#[make a new column subcribed to replace column y, y is not meaningful enough to explain what we are looking for]\n",
    "df2['subscribed'] = df2.loc[:, 'y']\n",
    "df2.head(5)"
   ]
  },
  {
   "cell_type": "code",
   "execution_count": 11,
   "id": "3be1ea18",
   "metadata": {},
   "outputs": [
    {
     "data": {
      "text/plain": [
       "Index(['balance', 'duration', 'age', 'previous', 'marital', 'education',\n",
       "       'loan'],\n",
       "      dtype='object')"
      ]
     },
     "execution_count": 11,
     "metadata": {},
     "output_type": "execute_result"
    }
   ],
   "source": [
    "#[preparing the data]\n",
    "#we make the trageted dataframe to X1a and y1a, X1a is for features and Y1a is label for prediction\n",
    "X1a = df2[['balance','duration','age','previous','marital','education','loan']]\n",
    "y1a = df2['subscribed']\n",
    "X1a.columns"
   ]
  },
  {
   "cell_type": "code",
   "execution_count": 12,
   "id": "a7423b68",
   "metadata": {},
   "outputs": [
    {
     "data": {
      "text/html": [
       "<div>\n",
       "<style scoped>\n",
       "    .dataframe tbody tr th:only-of-type {\n",
       "        vertical-align: middle;\n",
       "    }\n",
       "\n",
       "    .dataframe tbody tr th {\n",
       "        vertical-align: top;\n",
       "    }\n",
       "\n",
       "    .dataframe thead th {\n",
       "        text-align: right;\n",
       "    }\n",
       "</style>\n",
       "<table border=\"1\" class=\"dataframe\">\n",
       "  <thead>\n",
       "    <tr style=\"text-align: right;\">\n",
       "      <th></th>\n",
       "      <th>balance</th>\n",
       "      <th>duration</th>\n",
       "      <th>age</th>\n",
       "      <th>previous</th>\n",
       "      <th>marital</th>\n",
       "      <th>education</th>\n",
       "      <th>loan</th>\n",
       "    </tr>\n",
       "  </thead>\n",
       "  <tbody>\n",
       "    <tr>\n",
       "      <th>0</th>\n",
       "      <td>2143</td>\n",
       "      <td>261</td>\n",
       "      <td>58</td>\n",
       "      <td>0</td>\n",
       "      <td>married</td>\n",
       "      <td>tertiary</td>\n",
       "      <td>no</td>\n",
       "    </tr>\n",
       "    <tr>\n",
       "      <th>1</th>\n",
       "      <td>29</td>\n",
       "      <td>151</td>\n",
       "      <td>44</td>\n",
       "      <td>0</td>\n",
       "      <td>single</td>\n",
       "      <td>secondary</td>\n",
       "      <td>no</td>\n",
       "    </tr>\n",
       "    <tr>\n",
       "      <th>2</th>\n",
       "      <td>2</td>\n",
       "      <td>76</td>\n",
       "      <td>33</td>\n",
       "      <td>0</td>\n",
       "      <td>married</td>\n",
       "      <td>secondary</td>\n",
       "      <td>yes</td>\n",
       "    </tr>\n",
       "    <tr>\n",
       "      <th>3</th>\n",
       "      <td>1506</td>\n",
       "      <td>92</td>\n",
       "      <td>47</td>\n",
       "      <td>0</td>\n",
       "      <td>married</td>\n",
       "      <td>unknown</td>\n",
       "      <td>no</td>\n",
       "    </tr>\n",
       "    <tr>\n",
       "      <th>4</th>\n",
       "      <td>1</td>\n",
       "      <td>198</td>\n",
       "      <td>33</td>\n",
       "      <td>0</td>\n",
       "      <td>single</td>\n",
       "      <td>unknown</td>\n",
       "      <td>no</td>\n",
       "    </tr>\n",
       "  </tbody>\n",
       "</table>\n",
       "</div>"
      ],
      "text/plain": [
       "   balance  duration  age  previous  marital  education loan\n",
       "0     2143       261   58         0  married   tertiary   no\n",
       "1       29       151   44         0   single  secondary   no\n",
       "2        2        76   33         0  married  secondary  yes\n",
       "3     1506        92   47         0  married    unknown   no\n",
       "4        1       198   33         0   single    unknown   no"
      ]
     },
     "execution_count": 12,
     "metadata": {},
     "output_type": "execute_result"
    }
   ],
   "source": [
    "#[preparing the data]\n",
    "X1a.head(5)"
   ]
  },
  {
   "cell_type": "code",
   "execution_count": null,
   "id": "680dc76b",
   "metadata": {},
   "outputs": [],
   "source": [
    "\n"
   ]
  },
  {
   "cell_type": "code",
   "execution_count": 13,
   "id": "0816941c",
   "metadata": {},
   "outputs": [
    {
     "name": "stdout",
     "output_type": "stream",
     "text": [
      "<class 'pandas.core.frame.DataFrame'>\n",
      "RangeIndex: 45211 entries, 0 to 45210\n",
      "Data columns (total 7 columns):\n",
      " #   Column     Non-Null Count  Dtype \n",
      "---  ------     --------------  ----- \n",
      " 0   balance    45211 non-null  int64 \n",
      " 1   duration   45211 non-null  int64 \n",
      " 2   age        45211 non-null  int64 \n",
      " 3   previous   45211 non-null  int64 \n",
      " 4   marital    45211 non-null  object\n",
      " 5   education  45211 non-null  object\n",
      " 6   loan       45211 non-null  object\n",
      "dtypes: int64(4), object(3)\n",
      "memory usage: 2.4+ MB\n"
     ]
    }
   ],
   "source": [
    "#[preparing the data]\n",
    "#we did a column rearrangement for dataframe X1a so that numberic features are occupied first 4 columns and \n",
    "#categorical features are occupied for last 3 columns, this is the preparation of transformation\n",
    "X1a.info()"
   ]
  },
  {
   "cell_type": "code",
   "execution_count": 14,
   "id": "87d3e7f5",
   "metadata": {},
   "outputs": [],
   "source": [
    "#[preparing the data]\n",
    "#we split our dataset into training set and test set, we set the test percentage to 30%\n",
    "from sklearn.model_selection import train_test_split\n",
    "X_train1a, X_test1a, y_train1a, y_test1a = '', '', '', ''\n",
    "X_train1a, X_test1a, y_train1a, y_test1a = train_test_split(X1a, y1a, test_size=0.3, random_state=22)"
   ]
  },
  {
   "cell_type": "code",
   "execution_count": 15,
   "id": "994fa74d",
   "metadata": {},
   "outputs": [],
   "source": [
    "#[preparing the data]\n",
    "#we are going to conduct scaling for all numeric columns, that is for normalizing the range\n",
    "# of features in a dataset so that they are on the same scale \n",
    "#we are also going to do one-hot encoding for the last three columns marital, educaiton and loan\n",
    "# as they are categorical features\n",
    "#we will conduct scaling and OHE for both train and test dataset separately to ensure\n",
    "#no data leaking from train dataset to test dataset. We would like to ensure the models \n",
    "#preduction won't affect the accuracy of test dataset\n",
    "numeric_feats = ['balance', 'duration', 'age', 'previous']  # apply scaling\n",
    "categorical_feats = ['marital','education','loan']  # apply one-hot encoding"
   ]
  },
  {
   "cell_type": "code",
   "execution_count": 16,
   "id": "11ca1cba",
   "metadata": {},
   "outputs": [],
   "source": [
    "#[preparing the data]\n",
    "#we call make_column_transfer \n",
    "from sklearn.compose import make_column_transformer\n",
    "from sklearn.preprocessing import StandardScaler\n",
    "from sklearn.preprocessing import OneHotEncoder\n",
    "ct = make_column_transformer(    \n",
    "    (StandardScaler(), numeric_feats),  # scaling on numeric features \n",
    "    (OneHotEncoder(), categorical_feats),  # OHE on categorical features\n",
    "    \n",
    ")"
   ]
  },
  {
   "cell_type": "code",
   "execution_count": 17,
   "id": "3b1cd0d4",
   "metadata": {},
   "outputs": [
    {
     "data": {
      "text/plain": [
       "ColumnTransformer(transformers=[('standardscaler', StandardScaler(),\n",
       "                                 ['balance', 'duration', 'age', 'previous']),\n",
       "                                ('onehotencoder', OneHotEncoder(),\n",
       "                                 ['marital', 'education', 'loan'])])"
      ]
     },
     "execution_count": 17,
     "metadata": {},
     "output_type": "execute_result"
    }
   ],
   "source": [
    "ct"
   ]
  },
  {
   "cell_type": "code",
   "execution_count": 18,
   "id": "1e548d71",
   "metadata": {},
   "outputs": [],
   "source": [
    "#[preparing the data]\n",
    "#we call fit transform for scaling\n",
    "train_transformed = ct.fit_transform(X_train1a)"
   ]
  },
  {
   "cell_type": "code",
   "execution_count": 19,
   "id": "2f1fa7db",
   "metadata": {},
   "outputs": [
    {
     "data": {
      "text/plain": [
       "array([[-0.45381131, -0.4698698 , -0.46650368, ...,  0.        ,\n",
       "         1.        ,  0.        ],\n",
       "       [-0.58901438,  0.94180086,  0.3802991 , ...,  0.        ,\n",
       "         0.        ,  1.        ],\n",
       "       [-0.41660555,  3.16508599,  0.00394231, ...,  0.        ,\n",
       "         1.        ,  0.        ],\n",
       "       ...,\n",
       "       [-0.20665878,  3.2227837 , -0.56059288, ...,  0.        ,\n",
       "         1.        ,  0.        ],\n",
       "       [-0.39501293, -0.51602796,  0.1921207 , ...,  0.        ,\n",
       "         1.        ,  0.        ],\n",
       "       [ 2.30472986,  1.7457223 ,  3.67342101, ...,  0.        ,\n",
       "         1.        ,  0.        ]])"
      ]
     },
     "execution_count": 19,
     "metadata": {},
     "output_type": "execute_result"
    }
   ],
   "source": [
    "train_transformed"
   ]
  },
  {
   "cell_type": "code",
   "execution_count": null,
   "id": "89e53c04",
   "metadata": {},
   "outputs": [],
   "source": []
  },
  {
   "cell_type": "code",
   "execution_count": 20,
   "id": "2d0c3676",
   "metadata": {},
   "outputs": [
    {
     "data": {
      "text/plain": [
       "['balance',\n",
       " 'duration',\n",
       " 'age',\n",
       " 'previous',\n",
       " 'marital_divorced',\n",
       " 'marital_married',\n",
       " 'marital_single',\n",
       " 'education_primary',\n",
       " 'education_secondary',\n",
       " 'education_tertiary',\n",
       " 'education_unknown',\n",
       " 'loan_no',\n",
       " 'loan_yes']"
      ]
     },
     "execution_count": 20,
     "metadata": {},
     "output_type": "execute_result"
    }
   ],
   "source": [
    "#[preparing the data]\n",
    "#we call onehotencoder for categorical features\n",
    "column_names = (\n",
    "    numeric_feats \n",
    "    + ct.named_transformers_[\"onehotencoder\"].get_feature_names_out().tolist()\n",
    ")\n",
    "column_names"
   ]
  },
  {
   "cell_type": "code",
   "execution_count": 21,
   "id": "890e483f",
   "metadata": {},
   "outputs": [
    {
     "data": {
      "text/html": [
       "<div>\n",
       "<style scoped>\n",
       "    .dataframe tbody tr th:only-of-type {\n",
       "        vertical-align: middle;\n",
       "    }\n",
       "\n",
       "    .dataframe tbody tr th {\n",
       "        vertical-align: top;\n",
       "    }\n",
       "\n",
       "    .dataframe thead th {\n",
       "        text-align: right;\n",
       "    }\n",
       "</style>\n",
       "<table border=\"1\" class=\"dataframe\">\n",
       "  <thead>\n",
       "    <tr style=\"text-align: right;\">\n",
       "      <th></th>\n",
       "      <th>balance</th>\n",
       "      <th>duration</th>\n",
       "      <th>age</th>\n",
       "      <th>previous</th>\n",
       "      <th>marital_divorced</th>\n",
       "      <th>marital_married</th>\n",
       "      <th>marital_single</th>\n",
       "      <th>education_primary</th>\n",
       "      <th>education_secondary</th>\n",
       "      <th>education_tertiary</th>\n",
       "      <th>education_unknown</th>\n",
       "      <th>loan_no</th>\n",
       "      <th>loan_yes</th>\n",
       "    </tr>\n",
       "  </thead>\n",
       "  <tbody>\n",
       "    <tr>\n",
       "      <th>0</th>\n",
       "      <td>-0.453811</td>\n",
       "      <td>-0.469870</td>\n",
       "      <td>-0.466504</td>\n",
       "      <td>-0.305419</td>\n",
       "      <td>0.0</td>\n",
       "      <td>0.0</td>\n",
       "      <td>1.0</td>\n",
       "      <td>0.0</td>\n",
       "      <td>0.0</td>\n",
       "      <td>1.0</td>\n",
       "      <td>0.0</td>\n",
       "      <td>1.0</td>\n",
       "      <td>0.0</td>\n",
       "    </tr>\n",
       "    <tr>\n",
       "      <th>1</th>\n",
       "      <td>-0.589014</td>\n",
       "      <td>0.941801</td>\n",
       "      <td>0.380299</td>\n",
       "      <td>9.273433</td>\n",
       "      <td>0.0</td>\n",
       "      <td>1.0</td>\n",
       "      <td>0.0</td>\n",
       "      <td>1.0</td>\n",
       "      <td>0.0</td>\n",
       "      <td>0.0</td>\n",
       "      <td>0.0</td>\n",
       "      <td>0.0</td>\n",
       "      <td>1.0</td>\n",
       "    </tr>\n",
       "    <tr>\n",
       "      <th>2</th>\n",
       "      <td>-0.416606</td>\n",
       "      <td>3.165086</td>\n",
       "      <td>0.003942</td>\n",
       "      <td>0.226739</td>\n",
       "      <td>0.0</td>\n",
       "      <td>1.0</td>\n",
       "      <td>0.0</td>\n",
       "      <td>0.0</td>\n",
       "      <td>1.0</td>\n",
       "      <td>0.0</td>\n",
       "      <td>0.0</td>\n",
       "      <td>1.0</td>\n",
       "      <td>0.0</td>\n",
       "    </tr>\n",
       "    <tr>\n",
       "      <th>3</th>\n",
       "      <td>-0.278413</td>\n",
       "      <td>0.253275</td>\n",
       "      <td>0.944834</td>\n",
       "      <td>-0.305419</td>\n",
       "      <td>0.0</td>\n",
       "      <td>1.0</td>\n",
       "      <td>0.0</td>\n",
       "      <td>0.0</td>\n",
       "      <td>1.0</td>\n",
       "      <td>0.0</td>\n",
       "      <td>0.0</td>\n",
       "      <td>1.0</td>\n",
       "      <td>0.0</td>\n",
       "    </tr>\n",
       "    <tr>\n",
       "      <th>4</th>\n",
       "      <td>-0.387705</td>\n",
       "      <td>-0.881447</td>\n",
       "      <td>0.662567</td>\n",
       "      <td>-0.305419</td>\n",
       "      <td>0.0</td>\n",
       "      <td>1.0</td>\n",
       "      <td>0.0</td>\n",
       "      <td>1.0</td>\n",
       "      <td>0.0</td>\n",
       "      <td>0.0</td>\n",
       "      <td>0.0</td>\n",
       "      <td>1.0</td>\n",
       "      <td>0.0</td>\n",
       "    </tr>\n",
       "    <tr>\n",
       "      <th>...</th>\n",
       "      <td>...</td>\n",
       "      <td>...</td>\n",
       "      <td>...</td>\n",
       "      <td>...</td>\n",
       "      <td>...</td>\n",
       "      <td>...</td>\n",
       "      <td>...</td>\n",
       "      <td>...</td>\n",
       "      <td>...</td>\n",
       "      <td>...</td>\n",
       "      <td>...</td>\n",
       "      <td>...</td>\n",
       "      <td>...</td>\n",
       "    </tr>\n",
       "    <tr>\n",
       "      <th>31642</th>\n",
       "      <td>-0.212970</td>\n",
       "      <td>0.776401</td>\n",
       "      <td>0.003942</td>\n",
       "      <td>-0.305419</td>\n",
       "      <td>0.0</td>\n",
       "      <td>1.0</td>\n",
       "      <td>0.0</td>\n",
       "      <td>0.0</td>\n",
       "      <td>0.0</td>\n",
       "      <td>1.0</td>\n",
       "      <td>0.0</td>\n",
       "      <td>1.0</td>\n",
       "      <td>0.0</td>\n",
       "    </tr>\n",
       "    <tr>\n",
       "      <th>31643</th>\n",
       "      <td>-0.436869</td>\n",
       "      <td>0.791787</td>\n",
       "      <td>-0.466504</td>\n",
       "      <td>-0.305419</td>\n",
       "      <td>0.0</td>\n",
       "      <td>1.0</td>\n",
       "      <td>0.0</td>\n",
       "      <td>0.0</td>\n",
       "      <td>0.0</td>\n",
       "      <td>1.0</td>\n",
       "      <td>0.0</td>\n",
       "      <td>1.0</td>\n",
       "      <td>0.0</td>\n",
       "    </tr>\n",
       "    <tr>\n",
       "      <th>31644</th>\n",
       "      <td>-0.206659</td>\n",
       "      <td>3.222784</td>\n",
       "      <td>-0.560593</td>\n",
       "      <td>-0.305419</td>\n",
       "      <td>0.0</td>\n",
       "      <td>0.0</td>\n",
       "      <td>1.0</td>\n",
       "      <td>1.0</td>\n",
       "      <td>0.0</td>\n",
       "      <td>0.0</td>\n",
       "      <td>0.0</td>\n",
       "      <td>1.0</td>\n",
       "      <td>0.0</td>\n",
       "    </tr>\n",
       "    <tr>\n",
       "      <th>31645</th>\n",
       "      <td>-0.395013</td>\n",
       "      <td>-0.516028</td>\n",
       "      <td>0.192121</td>\n",
       "      <td>-0.305419</td>\n",
       "      <td>1.0</td>\n",
       "      <td>0.0</td>\n",
       "      <td>0.0</td>\n",
       "      <td>1.0</td>\n",
       "      <td>0.0</td>\n",
       "      <td>0.0</td>\n",
       "      <td>0.0</td>\n",
       "      <td>1.0</td>\n",
       "      <td>0.0</td>\n",
       "    </tr>\n",
       "    <tr>\n",
       "      <th>31646</th>\n",
       "      <td>2.304730</td>\n",
       "      <td>1.745722</td>\n",
       "      <td>3.673421</td>\n",
       "      <td>6.080482</td>\n",
       "      <td>0.0</td>\n",
       "      <td>1.0</td>\n",
       "      <td>0.0</td>\n",
       "      <td>0.0</td>\n",
       "      <td>1.0</td>\n",
       "      <td>0.0</td>\n",
       "      <td>0.0</td>\n",
       "      <td>1.0</td>\n",
       "      <td>0.0</td>\n",
       "    </tr>\n",
       "  </tbody>\n",
       "</table>\n",
       "<p>31647 rows × 13 columns</p>\n",
       "</div>"
      ],
      "text/plain": [
       "        balance  duration       age  previous  marital_divorced  \\\n",
       "0     -0.453811 -0.469870 -0.466504 -0.305419               0.0   \n",
       "1     -0.589014  0.941801  0.380299  9.273433               0.0   \n",
       "2     -0.416606  3.165086  0.003942  0.226739               0.0   \n",
       "3     -0.278413  0.253275  0.944834 -0.305419               0.0   \n",
       "4     -0.387705 -0.881447  0.662567 -0.305419               0.0   \n",
       "...         ...       ...       ...       ...               ...   \n",
       "31642 -0.212970  0.776401  0.003942 -0.305419               0.0   \n",
       "31643 -0.436869  0.791787 -0.466504 -0.305419               0.0   \n",
       "31644 -0.206659  3.222784 -0.560593 -0.305419               0.0   \n",
       "31645 -0.395013 -0.516028  0.192121 -0.305419               1.0   \n",
       "31646  2.304730  1.745722  3.673421  6.080482               0.0   \n",
       "\n",
       "       marital_married  marital_single  education_primary  \\\n",
       "0                  0.0             1.0                0.0   \n",
       "1                  1.0             0.0                1.0   \n",
       "2                  1.0             0.0                0.0   \n",
       "3                  1.0             0.0                0.0   \n",
       "4                  1.0             0.0                1.0   \n",
       "...                ...             ...                ...   \n",
       "31642              1.0             0.0                0.0   \n",
       "31643              1.0             0.0                0.0   \n",
       "31644              0.0             1.0                1.0   \n",
       "31645              0.0             0.0                1.0   \n",
       "31646              1.0             0.0                0.0   \n",
       "\n",
       "       education_secondary  education_tertiary  education_unknown  loan_no  \\\n",
       "0                      0.0                 1.0                0.0      1.0   \n",
       "1                      0.0                 0.0                0.0      0.0   \n",
       "2                      1.0                 0.0                0.0      1.0   \n",
       "3                      1.0                 0.0                0.0      1.0   \n",
       "4                      0.0                 0.0                0.0      1.0   \n",
       "...                    ...                 ...                ...      ...   \n",
       "31642                  0.0                 1.0                0.0      1.0   \n",
       "31643                  0.0                 1.0                0.0      1.0   \n",
       "31644                  0.0                 0.0                0.0      1.0   \n",
       "31645                  0.0                 0.0                0.0      1.0   \n",
       "31646                  1.0                 0.0                0.0      1.0   \n",
       "\n",
       "       loan_yes  \n",
       "0           0.0  \n",
       "1           1.0  \n",
       "2           0.0  \n",
       "3           0.0  \n",
       "4           0.0  \n",
       "...         ...  \n",
       "31642       0.0  \n",
       "31643       0.0  \n",
       "31644       0.0  \n",
       "31645       0.0  \n",
       "31646       0.0  \n",
       "\n",
       "[31647 rows x 13 columns]"
      ]
     },
     "execution_count": 21,
     "metadata": {},
     "output_type": "execute_result"
    }
   ],
   "source": [
    "#[preparing the data]\n",
    "#we finalize tranformed train dataset\n",
    "X_train1aT = pd.DataFrame(train_transformed, columns=column_names)\n",
    "X_train1aT"
   ]
  },
  {
   "cell_type": "code",
   "execution_count": 22,
   "id": "cf02815a",
   "metadata": {},
   "outputs": [],
   "source": [
    "#[preparing the data]\n",
    "#we are now dealing with the scaling and OHE for test dataset separately\n",
    "ct2 = make_column_transformer(    \n",
    "    (StandardScaler(), numeric_feats),  # scaling on numeric features \n",
    "    (OneHotEncoder(), categorical_feats),  # OHE on categorical features\n",
    ")"
   ]
  },
  {
   "cell_type": "code",
   "execution_count": 23,
   "id": "b846bcdb",
   "metadata": {},
   "outputs": [],
   "source": [
    "#[preparing the data]\n",
    "#call fit_transform\n",
    "test_transformed = ct2.fit_transform(X_test1a)"
   ]
  },
  {
   "cell_type": "code",
   "execution_count": 24,
   "id": "d69b5d46",
   "metadata": {},
   "outputs": [
    {
     "data": {
      "text/plain": [
       "['balance',\n",
       " 'duration',\n",
       " 'age',\n",
       " 'previous',\n",
       " 'marital_divorced',\n",
       " 'marital_married',\n",
       " 'marital_single',\n",
       " 'education_primary',\n",
       " 'education_secondary',\n",
       " 'education_tertiary',\n",
       " 'education_unknown',\n",
       " 'loan_no',\n",
       " 'loan_yes']"
      ]
     },
     "execution_count": 24,
     "metadata": {},
     "output_type": "execute_result"
    }
   ],
   "source": [
    "#[preparing the data]\n",
    "#OHE\n",
    "column_names2 = (\n",
    "    numeric_feats \n",
    "    + ct2.named_transformers_[\"onehotencoder\"].get_feature_names_out().tolist()\n",
    ")\n",
    "column_names2"
   ]
  },
  {
   "cell_type": "code",
   "execution_count": 25,
   "id": "5ef9dd84",
   "metadata": {},
   "outputs": [
    {
     "data": {
      "text/html": [
       "<div>\n",
       "<style scoped>\n",
       "    .dataframe tbody tr th:only-of-type {\n",
       "        vertical-align: middle;\n",
       "    }\n",
       "\n",
       "    .dataframe tbody tr th {\n",
       "        vertical-align: top;\n",
       "    }\n",
       "\n",
       "    .dataframe thead th {\n",
       "        text-align: right;\n",
       "    }\n",
       "</style>\n",
       "<table border=\"1\" class=\"dataframe\">\n",
       "  <thead>\n",
       "    <tr style=\"text-align: right;\">\n",
       "      <th></th>\n",
       "      <th>balance</th>\n",
       "      <th>duration</th>\n",
       "      <th>age</th>\n",
       "      <th>previous</th>\n",
       "      <th>marital_divorced</th>\n",
       "      <th>marital_married</th>\n",
       "      <th>marital_single</th>\n",
       "      <th>education_primary</th>\n",
       "      <th>education_secondary</th>\n",
       "      <th>education_tertiary</th>\n",
       "      <th>education_unknown</th>\n",
       "      <th>loan_no</th>\n",
       "      <th>loan_yes</th>\n",
       "    </tr>\n",
       "  </thead>\n",
       "  <tbody>\n",
       "    <tr>\n",
       "      <th>0</th>\n",
       "      <td>-0.243736</td>\n",
       "      <td>-0.731713</td>\n",
       "      <td>-0.555405</td>\n",
       "      <td>-0.193679</td>\n",
       "      <td>0.0</td>\n",
       "      <td>1.0</td>\n",
       "      <td>0.0</td>\n",
       "      <td>0.0</td>\n",
       "      <td>1.0</td>\n",
       "      <td>0.0</td>\n",
       "      <td>0.0</td>\n",
       "      <td>1.0</td>\n",
       "      <td>0.0</td>\n",
       "    </tr>\n",
       "    <tr>\n",
       "      <th>1</th>\n",
       "      <td>-0.293358</td>\n",
       "      <td>0.066811</td>\n",
       "      <td>-1.310399</td>\n",
       "      <td>-0.193679</td>\n",
       "      <td>0.0</td>\n",
       "      <td>0.0</td>\n",
       "      <td>1.0</td>\n",
       "      <td>0.0</td>\n",
       "      <td>1.0</td>\n",
       "      <td>0.0</td>\n",
       "      <td>0.0</td>\n",
       "      <td>0.0</td>\n",
       "      <td>1.0</td>\n",
       "    </tr>\n",
       "    <tr>\n",
       "      <th>2</th>\n",
       "      <td>-0.104794</td>\n",
       "      <td>1.632078</td>\n",
       "      <td>1.709576</td>\n",
       "      <td>-0.193679</td>\n",
       "      <td>1.0</td>\n",
       "      <td>0.0</td>\n",
       "      <td>0.0</td>\n",
       "      <td>0.0</td>\n",
       "      <td>1.0</td>\n",
       "      <td>0.0</td>\n",
       "      <td>0.0</td>\n",
       "      <td>1.0</td>\n",
       "      <td>0.0</td>\n",
       "    </tr>\n",
       "    <tr>\n",
       "      <th>3</th>\n",
       "      <td>-0.431020</td>\n",
       "      <td>-0.429783</td>\n",
       "      <td>1.048957</td>\n",
       "      <td>-0.193679</td>\n",
       "      <td>1.0</td>\n",
       "      <td>0.0</td>\n",
       "      <td>0.0</td>\n",
       "      <td>0.0</td>\n",
       "      <td>1.0</td>\n",
       "      <td>0.0</td>\n",
       "      <td>0.0</td>\n",
       "      <td>1.0</td>\n",
       "      <td>0.0</td>\n",
       "    </tr>\n",
       "    <tr>\n",
       "      <th>4</th>\n",
       "      <td>-0.156657</td>\n",
       "      <td>-0.521157</td>\n",
       "      <td>-0.932902</td>\n",
       "      <td>-0.193679</td>\n",
       "      <td>0.0</td>\n",
       "      <td>1.0</td>\n",
       "      <td>0.0</td>\n",
       "      <td>0.0</td>\n",
       "      <td>1.0</td>\n",
       "      <td>0.0</td>\n",
       "      <td>0.0</td>\n",
       "      <td>0.0</td>\n",
       "      <td>1.0</td>\n",
       "    </tr>\n",
       "    <tr>\n",
       "      <th>...</th>\n",
       "      <td>...</td>\n",
       "      <td>...</td>\n",
       "      <td>...</td>\n",
       "      <td>...</td>\n",
       "      <td>...</td>\n",
       "      <td>...</td>\n",
       "      <td>...</td>\n",
       "      <td>...</td>\n",
       "      <td>...</td>\n",
       "      <td>...</td>\n",
       "      <td>...</td>\n",
       "      <td>...</td>\n",
       "      <td>...</td>\n",
       "    </tr>\n",
       "    <tr>\n",
       "      <th>13559</th>\n",
       "      <td>-0.409250</td>\n",
       "      <td>-0.989942</td>\n",
       "      <td>-0.555405</td>\n",
       "      <td>-0.193679</td>\n",
       "      <td>0.0</td>\n",
       "      <td>1.0</td>\n",
       "      <td>0.0</td>\n",
       "      <td>0.0</td>\n",
       "      <td>0.0</td>\n",
       "      <td>1.0</td>\n",
       "      <td>0.0</td>\n",
       "      <td>1.0</td>\n",
       "      <td>0.0</td>\n",
       "    </tr>\n",
       "    <tr>\n",
       "      <th>13560</th>\n",
       "      <td>-0.429099</td>\n",
       "      <td>0.603134</td>\n",
       "      <td>1.143331</td>\n",
       "      <td>-0.193679</td>\n",
       "      <td>0.0</td>\n",
       "      <td>1.0</td>\n",
       "      <td>0.0</td>\n",
       "      <td>0.0</td>\n",
       "      <td>0.0</td>\n",
       "      <td>0.0</td>\n",
       "      <td>1.0</td>\n",
       "      <td>1.0</td>\n",
       "      <td>0.0</td>\n",
       "    </tr>\n",
       "    <tr>\n",
       "      <th>13561</th>\n",
       "      <td>0.469862</td>\n",
       "      <td>-0.286764</td>\n",
       "      <td>-1.310399</td>\n",
       "      <td>-0.193679</td>\n",
       "      <td>0.0</td>\n",
       "      <td>0.0</td>\n",
       "      <td>1.0</td>\n",
       "      <td>0.0</td>\n",
       "      <td>0.0</td>\n",
       "      <td>1.0</td>\n",
       "      <td>0.0</td>\n",
       "      <td>1.0</td>\n",
       "      <td>0.0</td>\n",
       "    </tr>\n",
       "    <tr>\n",
       "      <th>13562</th>\n",
       "      <td>-0.412772</td>\n",
       "      <td>-0.715822</td>\n",
       "      <td>1.615202</td>\n",
       "      <td>-0.193679</td>\n",
       "      <td>0.0</td>\n",
       "      <td>1.0</td>\n",
       "      <td>0.0</td>\n",
       "      <td>0.0</td>\n",
       "      <td>0.0</td>\n",
       "      <td>0.0</td>\n",
       "      <td>1.0</td>\n",
       "      <td>0.0</td>\n",
       "      <td>1.0</td>\n",
       "    </tr>\n",
       "    <tr>\n",
       "      <th>13563</th>\n",
       "      <td>-0.666325</td>\n",
       "      <td>0.297231</td>\n",
       "      <td>-0.272283</td>\n",
       "      <td>-0.193679</td>\n",
       "      <td>0.0</td>\n",
       "      <td>1.0</td>\n",
       "      <td>0.0</td>\n",
       "      <td>0.0</td>\n",
       "      <td>1.0</td>\n",
       "      <td>0.0</td>\n",
       "      <td>0.0</td>\n",
       "      <td>1.0</td>\n",
       "      <td>0.0</td>\n",
       "    </tr>\n",
       "  </tbody>\n",
       "</table>\n",
       "<p>13564 rows × 13 columns</p>\n",
       "</div>"
      ],
      "text/plain": [
       "        balance  duration       age  previous  marital_divorced  \\\n",
       "0     -0.243736 -0.731713 -0.555405 -0.193679               0.0   \n",
       "1     -0.293358  0.066811 -1.310399 -0.193679               0.0   \n",
       "2     -0.104794  1.632078  1.709576 -0.193679               1.0   \n",
       "3     -0.431020 -0.429783  1.048957 -0.193679               1.0   \n",
       "4     -0.156657 -0.521157 -0.932902 -0.193679               0.0   \n",
       "...         ...       ...       ...       ...               ...   \n",
       "13559 -0.409250 -0.989942 -0.555405 -0.193679               0.0   \n",
       "13560 -0.429099  0.603134  1.143331 -0.193679               0.0   \n",
       "13561  0.469862 -0.286764 -1.310399 -0.193679               0.0   \n",
       "13562 -0.412772 -0.715822  1.615202 -0.193679               0.0   \n",
       "13563 -0.666325  0.297231 -0.272283 -0.193679               0.0   \n",
       "\n",
       "       marital_married  marital_single  education_primary  \\\n",
       "0                  1.0             0.0                0.0   \n",
       "1                  0.0             1.0                0.0   \n",
       "2                  0.0             0.0                0.0   \n",
       "3                  0.0             0.0                0.0   \n",
       "4                  1.0             0.0                0.0   \n",
       "...                ...             ...                ...   \n",
       "13559              1.0             0.0                0.0   \n",
       "13560              1.0             0.0                0.0   \n",
       "13561              0.0             1.0                0.0   \n",
       "13562              1.0             0.0                0.0   \n",
       "13563              1.0             0.0                0.0   \n",
       "\n",
       "       education_secondary  education_tertiary  education_unknown  loan_no  \\\n",
       "0                      1.0                 0.0                0.0      1.0   \n",
       "1                      1.0                 0.0                0.0      0.0   \n",
       "2                      1.0                 0.0                0.0      1.0   \n",
       "3                      1.0                 0.0                0.0      1.0   \n",
       "4                      1.0                 0.0                0.0      0.0   \n",
       "...                    ...                 ...                ...      ...   \n",
       "13559                  0.0                 1.0                0.0      1.0   \n",
       "13560                  0.0                 0.0                1.0      1.0   \n",
       "13561                  0.0                 1.0                0.0      1.0   \n",
       "13562                  0.0                 0.0                1.0      0.0   \n",
       "13563                  1.0                 0.0                0.0      1.0   \n",
       "\n",
       "       loan_yes  \n",
       "0           0.0  \n",
       "1           1.0  \n",
       "2           0.0  \n",
       "3           0.0  \n",
       "4           1.0  \n",
       "...         ...  \n",
       "13559       0.0  \n",
       "13560       0.0  \n",
       "13561       0.0  \n",
       "13562       1.0  \n",
       "13563       0.0  \n",
       "\n",
       "[13564 rows x 13 columns]"
      ]
     },
     "execution_count": 25,
     "metadata": {},
     "output_type": "execute_result"
    }
   ],
   "source": [
    "#[preparing the data]\n",
    "#tranformed test data set created\n",
    "X_test1aT = pd.DataFrame(test_transformed, columns=column_names2)\n",
    "X_test1aT"
   ]
  },
  {
   "cell_type": "code",
   "execution_count": 26,
   "id": "5d2b5fe7",
   "metadata": {},
   "outputs": [
    {
     "name": "stdout",
     "output_type": "stream",
     "text": [
      "<class 'pandas.core.frame.DataFrame'>\n",
      "RangeIndex: 13564 entries, 0 to 13563\n",
      "Data columns (total 13 columns):\n",
      " #   Column               Non-Null Count  Dtype  \n",
      "---  ------               --------------  -----  \n",
      " 0   balance              13564 non-null  float64\n",
      " 1   duration             13564 non-null  float64\n",
      " 2   age                  13564 non-null  float64\n",
      " 3   previous             13564 non-null  float64\n",
      " 4   marital_divorced     13564 non-null  float64\n",
      " 5   marital_married      13564 non-null  float64\n",
      " 6   marital_single       13564 non-null  float64\n",
      " 7   education_primary    13564 non-null  float64\n",
      " 8   education_secondary  13564 non-null  float64\n",
      " 9   education_tertiary   13564 non-null  float64\n",
      " 10  education_unknown    13564 non-null  float64\n",
      " 11  loan_no              13564 non-null  float64\n",
      " 12  loan_yes             13564 non-null  float64\n",
      "dtypes: float64(13)\n",
      "memory usage: 1.3 MB\n"
     ]
    }
   ],
   "source": [
    "#[preparing the data]\n",
    "#show test dataset \n",
    "X_test1aT.info()"
   ]
  },
  {
   "cell_type": "code",
   "execution_count": 27,
   "id": "9c690990",
   "metadata": {},
   "outputs": [
    {
     "data": {
      "text/plain": [
       "KNeighborsClassifier(n_neighbors=3)"
      ]
     },
     "execution_count": 27,
     "metadata": {},
     "output_type": "execute_result"
    }
   ],
   "source": [
    "#[Modeling KNN]\n",
    "#we will use KNN to predict the sub by using train data\n",
    "from sklearn.neighbors import KNeighborsClassifier\n",
    "knn = KNeighborsClassifier(n_neighbors = 3)\n",
    "knn.fit(X_train1aT,y_train1a)"
   ]
  },
  {
   "cell_type": "code",
   "execution_count": null,
   "id": "115bffde",
   "metadata": {},
   "outputs": [],
   "source": []
  },
  {
   "cell_type": "code",
   "execution_count": 28,
   "id": "75ca9deb",
   "metadata": {},
   "outputs": [
    {
     "name": "stderr",
     "output_type": "stream",
     "text": [
      "C:\\ProgramData\\Anaconda3\\lib\\site-packages\\sklearn\\neighbors\\_classification.py:228: FutureWarning: Unlike other reduction functions (e.g. `skew`, `kurtosis`), the default behavior of `mode` typically preserves the axis it acts along. In SciPy 1.11.0, this behavior will change: the default value of `keepdims` will become False, the `axis` over which the statistic is taken will be eliminated, and the value None will no longer be accepted. Set `keepdims` to True or False to avoid this warning.\n",
      "  mode, _ = stats.mode(_y[neigh_ind, k], axis=1)\n"
     ]
    },
    {
     "data": {
      "text/plain": [
       "array(['no', 'no', 'yes', ..., 'no', 'no', 'no'], dtype=object)"
      ]
     },
     "execution_count": 28,
     "metadata": {},
     "output_type": "execute_result"
    }
   ],
   "source": [
    "#[Modeling KNN]\n",
    "## preform prediction by using KNN\n",
    "y_pred1a = knn.predict(X_test1aT)\n",
    "y_pred1a"
   ]
  },
  {
   "cell_type": "code",
   "execution_count": null,
   "id": "cdd8563f",
   "metadata": {},
   "outputs": [],
   "source": []
  },
  {
   "cell_type": "code",
   "execution_count": 29,
   "id": "dc1754ec",
   "metadata": {},
   "outputs": [
    {
     "name": "stdout",
     "output_type": "stream",
     "text": [
      "knn score : 0.8748156885874373\n"
     ]
    }
   ],
   "source": [
    "#[Modeling KNN]\n",
    "#we check the score of the prediction model of KNN\n",
    "import sklearn.metrics as metrics\n",
    "#knn.score(X_test1aT,y_pred1a)\n",
    "score_knn= metrics.accuracy_score(y_test1a, y_pred1a)\n",
    "print ('knn score :', score_knn)"
   ]
  },
  {
   "cell_type": "code",
   "execution_count": 30,
   "id": "cfef0125",
   "metadata": {},
   "outputs": [
    {
     "name": "stdout",
     "output_type": "stream",
     "text": [
      "knn confusion matrix : [[11376   597]\n",
      " [ 1101   490]]\n"
     ]
    }
   ],
   "source": [
    "#[Modeling KNN]\n",
    "#we check the confusion matrix of KNN\n",
    "from sklearn import metrics\n",
    "cnf_matrix_knn = metrics.confusion_matrix(y_test1a,y_pred1a)\n",
    "print ('knn confusion matrix :', cnf_matrix_knn)"
   ]
  },
  {
   "cell_type": "code",
   "execution_count": 31,
   "id": "bf9ca70a",
   "metadata": {},
   "outputs": [
    {
     "data": {
      "image/png": "[encoded data removed]",
      "text/plain": [
       "<Figure size 400x300 with 2 Axes>"
      ]
     },
     "metadata": {},
     "output_type": "display_data"
    }
   ],
   "source": [
    "#[Modeling KNN]\n",
    "#plot confusion matrix\n",
    "import matplotlib.pyplot as plt\n",
    "from sklearn.metrics import ConfusionMatrixDisplay\n",
    "fig, ax = plt.subplots(figsize=(4,3), dpi=100)\n",
    "display = ConfusionMatrixDisplay(confusion_matrix=cnf_matrix_knn, display_labels=knn.classes_)\n",
    "ax.set(title='Confusion Matrix for Knn Model')\n",
    "display.plot(ax=ax);"
   ]
  },
  {
   "cell_type": "code",
   "execution_count": 32,
   "id": "40af70ea",
   "metadata": {},
   "outputs": [],
   "source": [
    "#[Modeling Decision Tree Model]\n",
    "#train the model using train data, then use the test data to make prediction by Decision Tree Model\n",
    "from sklearn.tree import DecisionTreeClassifier\n",
    "from sklearn import metrics \n",
    "\n",
    "clf1b = DecisionTreeClassifier()\n",
    "clf1b.fit(X_train1aT,y_train1a)\n",
    "\n",
    "y_pred1b = clf1b.predict(X_test1aT)"
   ]
  },
  {
   "cell_type": "code",
   "execution_count": null,
   "id": "3f40eda6",
   "metadata": {},
   "outputs": [],
   "source": []
  },
  {
   "cell_type": "code",
   "execution_count": 40,
   "id": "39651f5f",
   "metadata": {},
   "outputs": [
    {
     "name": "stdout",
     "output_type": "stream",
     "text": [
      "decision tree score : 0.8392804482453553\n"
     ]
    }
   ],
   "source": [
    "#[Modeling Decision Tree Model]\n",
    "#check the score of the model of decision tree\n",
    "score_decisiontree = metrics.accuracy_score(y_test1a, y_pred1b)\n",
    "print ('decision tree score :', score_decisiontree)"
   ]
  },
  {
   "cell_type": "code",
   "execution_count": 41,
   "id": "5b284b7e",
   "metadata": {},
   "outputs": [
    {
     "name": "stdout",
     "output_type": "stream",
     "text": [
      "decision tree confusion matrix : [[10799  1174]\n",
      " [ 1006   585]]\n"
     ]
    }
   ],
   "source": [
    "#[Modeling Decision Tree Model]\n",
    "#find out the confusion matrix\n",
    "cnf_matrix_decisiontree = metrics.confusion_matrix(y_test1a,y_pred1b)\n",
    "print ('decision tree confusion matrix :', cnf_matrix_decisiontree)"
   ]
  },
  {
   "cell_type": "code",
   "execution_count": 42,
   "id": "a5478a8f",
   "metadata": {},
   "outputs": [
    {
     "data": {
      "image/png": "[encoded data removed]",
      "text/plain": [
       "<Figure size 400x300 with 2 Axes>"
      ]
     },
     "metadata": {},
     "output_type": "display_data"
    }
   ],
   "source": [
    "#[Modeling Decision Tree Model]\n",
    "#plot confusion matrix\n",
    "import matplotlib.pyplot as plt\n",
    "from sklearn.metrics import ConfusionMatrixDisplay\n",
    "fig, ax = plt.subplots(figsize=(4,3), dpi=100)\n",
    "display = ConfusionMatrixDisplay(confusion_matrix=cnf_matrix_decisiontree, display_labels=clf1b.classes_)\n",
    "ax.set(title='Confusion Matrix for Decision Tree Model')\n",
    "display.plot(ax=ax);"
   ]
  },
  {
   "cell_type": "code",
   "execution_count": 43,
   "id": "7e3a785a",
   "metadata": {},
   "outputs": [],
   "source": [
    "#[Modeling SVM]\n",
    "#train the model using train data, then use the test data to make prediction by SVM\n",
    "from sklearn import svm\n",
    "import numpy as np\n",
    "\n",
    "clf1c = svm.SVC(kernel='linear')\n",
    "clf1c.fit(X_train1aT,y_train1a)\n",
    "#clf1c = svm.SVC(kernel='linear').fit(X_train1aT, y_train1a)\n",
    "\n",
    "y_pred1c = clf1c.predict(X_test1aT)"
   ]
  },
  {
   "cell_type": "code",
   "execution_count": 44,
   "id": "8ea7e771",
   "metadata": {},
   "outputs": [
    {
     "name": "stdout",
     "output_type": "stream",
     "text": [
      "SVM score : 0.8827042170451195\n"
     ]
    }
   ],
   "source": [
    "#[Modeling SVM]\n",
    "#check the score of the model of decision tree\n",
    "score_svm = metrics.accuracy_score(y_test1a, y_pred1c)\n",
    "print ('SVM score :', score_svm)"
   ]
  },
  {
   "cell_type": "code",
   "execution_count": 45,
   "id": "bf484d5b",
   "metadata": {},
   "outputs": [
    {
     "name": "stdout",
     "output_type": "stream",
     "text": [
      "SVM confusion matrix : [[11973     0]\n",
      " [ 1591     0]]\n"
     ]
    }
   ],
   "source": [
    "#[Modeling SVM]\n",
    "#find out the confusion matrix\n",
    "cnf_matrix_svm = metrics.confusion_matrix(y_test1a,y_pred1c)\n",
    "print ('SVM confusion matrix :', cnf_matrix_svm)"
   ]
  },
  {
   "cell_type": "code",
   "execution_count": 46,
   "id": "8073a1a7",
   "metadata": {},
   "outputs": [
    {
     "data": {
      "image/png": "[encoded data removed]",
      "text/plain": [
       "<Figure size 400x300 with 2 Axes>"
      ]
     },
     "metadata": {},
     "output_type": "display_data"
    }
   ],
   "source": [
    "#[Modeling SVM]\n",
    "#plot confusion matrix by heat map\n",
    "import matplotlib.pyplot as plt\n",
    "from sklearn.metrics import ConfusionMatrixDisplay\n",
    "fig, ax = plt.subplots(figsize=(4,3), dpi=100)\n",
    "display = ConfusionMatrixDisplay(confusion_matrix=cnf_matrix_svm, display_labels=clf1c.classes_)\n",
    "ax.set(title='Confusion Matrix for SVM Model')\n",
    "display.plot(ax=ax);"
   ]
  },
  {
   "cell_type": "code",
   "execution_count": null,
   "id": "190a7a85",
   "metadata": {},
   "outputs": [],
   "source": []
  },
  {
   "cell_type": "code",
   "execution_count": 47,
   "id": "b3c9fbe0",
   "metadata": {},
   "outputs": [
    {
     "data": {
      "text/plain": [
       "array(['no', 'no', 'no', ..., 'no', 'no', 'no'], dtype=object)"
      ]
     },
     "execution_count": 47,
     "metadata": {},
     "output_type": "execute_result"
    }
   ],
   "source": [
    "#[Modeling Logistic Regression]\n",
    "#train the model using train data, then use the test data to make prediction by Logistic Regression\n",
    "from sklearn.linear_model import LogisticRegression\n",
    "logisticRegr = LogisticRegression()\n",
    "logisticRegr.fit(X_train1aT, y_train1a)\n",
    "\n",
    "y_pred1d = logisticRegr.predict(X_test1aT)\n",
    "y_pred1d"
   ]
  },
  {
   "cell_type": "code",
   "execution_count": 48,
   "id": "c9fe90db",
   "metadata": {},
   "outputs": [
    {
     "name": "stdout",
     "output_type": "stream",
     "text": [
      "score logistic regression : 0.8872014155116484\n"
     ]
    }
   ],
   "source": [
    "#[Modeling logistic regression]\n",
    "#check the score of the model of decision tree\n",
    "score_logisticregression = metrics.accuracy_score(y_test1a, y_pred1d)\n",
    "print ('score logistic regression :', score_logisticregression)"
   ]
  },
  {
   "cell_type": "code",
   "execution_count": null,
   "id": "fb83521d",
   "metadata": {},
   "outputs": [],
   "source": []
  },
  {
   "cell_type": "code",
   "execution_count": 49,
   "id": "2a4ca2cd",
   "metadata": {},
   "outputs": [
    {
     "name": "stdout",
     "output_type": "stream",
     "text": [
      "logistic regression confusion matrix : [[11772   201]\n",
      " [ 1329   262]]\n"
     ]
    }
   ],
   "source": [
    "#[Modeling Logistic regression]\n",
    "#find out the confusion matrix\n",
    "cnf_matrix_logisticregression = metrics.confusion_matrix(y_test1a,y_pred1d)\n",
    "print ('logistic regression confusion matrix :', cnf_matrix_logisticregression)"
   ]
  },
  {
   "cell_type": "code",
   "execution_count": 50,
   "id": "f9c22dfb",
   "metadata": {},
   "outputs": [
    {
     "data": {
      "image/png": "[encoded data removed]",
      "text/plain": [
       "<Figure size 400x300 with 2 Axes>"
      ]
     },
     "metadata": {},
     "output_type": "display_data"
    }
   ],
   "source": [
    "import matplotlib.pyplot as plt\n",
    "from sklearn.metrics import ConfusionMatrixDisplay\n",
    "fig, ax = plt.subplots(figsize=(4,3), dpi=100)\n",
    "display = ConfusionMatrixDisplay(confusion_matrix=cnf_matrix_logisticregression, display_labels=logisticRegr.classes_)\n",
    "ax.set(title='Confusion Matrix for Logistic Regression Model')\n",
    "display.plot(ax=ax);"
   ]
  },
  {
   "cell_type": "code",
   "execution_count": 51,
   "id": "34a0a42e",
   "metadata": {},
   "outputs": [
    {
     "name": "stdout",
     "output_type": "stream",
     "text": [
      "Model Knn\n",
      "accuracy of knn confusion matrix : 87.48156885874373 %\n",
      "accuracy score by sklearn : 87.48156885874373 %\n"
     ]
    }
   ],
   "source": [
    "#[Model Accuracy]\n",
    "#check the accuracy of Knn\n",
    "true_neg, false_pos, false_neg, true_pos = cnf_matrix_knn.ravel()\n",
    "cfm_accuracy = (true_neg+true_pos) / (true_neg+false_pos+false_neg+true_pos)\n",
    "print ('Model Knn')\n",
    "print ('accuracy of knn confusion matrix :', cfm_accuracy * 100, '%')\n",
    "print ('accuracy score by sklearn :', score_knn * 100, '%')"
   ]
  },
  {
   "cell_type": "code",
   "execution_count": null,
   "id": "7bfef4f5",
   "metadata": {},
   "outputs": [],
   "source": []
  },
  {
   "cell_type": "code",
   "execution_count": 52,
   "id": "f1707149",
   "metadata": {},
   "outputs": [
    {
     "name": "stdout",
     "output_type": "stream",
     "text": [
      "Model Decision Tree\n",
      "accuracy of knn confusion matrix : 0.8392804482453553 %\n",
      "accuracy score by sklearn : 0.8392804482453553 %\n"
     ]
    }
   ],
   "source": [
    "#[Model Decision Tree]\n",
    "#check the accuracy of DT\n",
    "true_neg, false_pos, false_neg, true_pos = cnf_matrix_decisiontree.ravel()\n",
    "cfm_accuracy = (true_neg+true_pos) / (true_neg+false_pos+false_neg+true_pos)\n",
    "print ('Model Decision Tree')\n",
    "print ('accuracy of knn confusion matrix :', cfm_accuracy, '%')\n",
    "print ('accuracy score by sklearn :', score_decisiontree, '%')"
   ]
  },
  {
   "cell_type": "code",
   "execution_count": 53,
   "id": "e0d24a28",
   "metadata": {},
   "outputs": [
    {
     "name": "stdout",
     "output_type": "stream",
     "text": [
      "Model SVM\n",
      "accuracy of knn confusion matrix : 0.8827042170451195 %\n",
      "accuracy score by sklearn : 0.8827042170451195 %\n"
     ]
    }
   ],
   "source": [
    "#[Model SVM]\n",
    "#check the accuracy of SVM\n",
    "true_neg, false_pos, false_neg, true_pos = cnf_matrix_svm.ravel()\n",
    "cfm_accuracy = (true_neg+true_pos) / (true_neg+false_pos+false_neg+true_pos)\n",
    "print ('Model SVM')\n",
    "print ('accuracy of knn confusion matrix :', cfm_accuracy, '%')\n",
    "print ('accuracy score by sklearn :', score_svm, '%')"
   ]
  },
  {
   "cell_type": "code",
   "execution_count": 54,
   "id": "0c33e6dd",
   "metadata": {},
   "outputs": [
    {
     "name": "stdout",
     "output_type": "stream",
     "text": [
      "Model Logistic Regression\n",
      "accuracy of knn confusion matrix : 0.8872014155116484 %\n",
      "accuracy score by sklearn : 0.8872014155116484 %\n"
     ]
    }
   ],
   "source": [
    "#[Model Logistic Regression]\n",
    "#check the accuracy of logistic Regression\n",
    "true_neg, false_pos, false_neg, true_pos = cnf_matrix_logisticregression.ravel()\n",
    "cfm_accuracy = (true_neg+true_pos) / (true_neg+false_pos+false_neg+true_pos)\n",
    "print ('Model Logistic Regression')\n",
    "print ('accuracy of knn confusion matrix :', cfm_accuracy, '%')\n",
    "print ('accuracy score by sklearn :', score_logisticregression, '%')"
   ]
  },
  {
   "cell_type": "code",
   "execution_count": 220,
   "id": "0280a7ad",
   "metadata": {},
   "outputs": [],
   "source": [
    "#[Analysis]\n",
    "# teh confusion matrix suggested that we should use logistic regression model \n",
    "# to predict the subscription of a term deposit\n",
    "#as value is 0.8827 which is the highest number, this also means the accuracy rate of\n",
    "#this model is 88.72%, this is based on the test dataset of 31646 rows. \n",
    "#As the accuracy rate of the predict model is high, we would expect this model to be ready\n",
    "# to be used in production environment"
   ]
  },
  {
   "cell_type": "code",
   "execution_count": 221,
   "id": "a6b7cdf6",
   "metadata": {},
   "outputs": [],
   "source": []
  },
  {
   "cell_type": "code",
   "execution_count": 224,
   "id": "4c839dea",
   "metadata": {},
   "outputs": [],
   "source": []
  },
  {
   "cell_type": "code",
   "execution_count": null,
   "id": "40594417",
   "metadata": {},
   "outputs": [],
   "source": []
  },
  {
   "cell_type": "code",
   "execution_count": null,
   "id": "2ea5d627",
   "metadata": {},
   "outputs": [],
   "source": []
  }
 ],
 "metadata": {
  "kernelspec": {
   "display_name": "Python 3 (ipykernel)",
   "language": "python",
   "name": "python3"
  },
  "language_info": {
   "codemirror_mode": {
    "name": "ipython",
    "version": 3
   },
   "file_extension": ".py",
   "mimetype": "text/x-python",
   "name": "python",
   "nbconvert_exporter": "python",
   "pygments_lexer": "ipython3",
   "version": "3.9.13"
  }
 },
 "nbformat": 4,
 "nbformat_minor": 5
}
